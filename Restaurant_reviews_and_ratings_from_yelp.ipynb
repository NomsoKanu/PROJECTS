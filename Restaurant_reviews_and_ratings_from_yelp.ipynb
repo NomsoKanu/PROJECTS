{
  "nbformat": 4,
  "nbformat_minor": 0,
  "metadata": {
    "colab": {
      "name": " Restaurant reviews and ratings from yelp.ipynb",
      "provenance": [],
      "include_colab_link": true
    },
    "kernelspec": {
      "name": "python3",
      "display_name": "Python 3"
    },
    "language_info": {
      "name": "python"
    }
  },
  "cells": [
    {
      "cell_type": "markdown",
      "metadata": {
        "id": "view-in-github",
        "colab_type": "text"
      },
      "source": [
        "<a href=\"https://colab.research.google.com/github/swypar/PROJECTS/blob/main/Restaurant_reviews_and_ratings_from_yelp.ipynb\" target=\"_parent\"><img src=\"https://colab.research.google.com/assets/colab-badge.svg\" alt=\"Open In Colab\"/></a>"
      ]
    },
    {
      "cell_type": "markdown",
      "metadata": {
        "id": "tHhsD8SeSkZb"
      },
      "source": [
        "Scraping at 400 full reviews and ratings from Yelp for a restaurant that has mixed reviews.\n",
        "Cleaning and pre-processing the data. \n",
        "Developing a Word2Vec model using the reviews. (\n",
        "Identifying words that are most similar to 3 items on the restaurant menu using the Word2Vec model. \n"
      ]
    },
    {
      "cell_type": "code",
      "metadata": {
        "id": "-AUjh-PRSL8g"
      },
      "source": [
        "#installing package\n",
        "\n",
        "import pandas as pd"
      ],
      "execution_count": null,
      "outputs": []
    },
    {
      "cell_type": "code",
      "metadata": {
        "colab": {
          "resources": {
            "http://localhost:8080/nbextensions/google.colab/files.js": {
              "data": "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",
              "ok": true,
              "headers": [
                [
                  "content-type",
                  "application/javascript"
                ]
              ],
              "status": 200,
              "status_text": ""
            }
          },
          "base_uri": "https://localhost:8080/",
          "height": 73
        },
        "id": "g_XpymrpS2ck",
        "outputId": "15da3dd1-6a24-47fb-8467-9431d4ab8c62"
      },
      "source": [
        "#uploading restaurant file\n",
        "\n",
        "from google.colab import files\n",
        "uploaded = files.upload()\n",
        "\n",
        "import io\n",
        "reviews_df = pd.read_csv(io.BytesIO(uploaded['the-plank-pizza-co-beer-parlor.csv']))"
      ],
      "execution_count": null,
      "outputs": [
        {
          "output_type": "display_data",
          "data": {
            "text/html": [
              "\n",
              "     <input type=\"file\" id=\"files-6a0e8867-c898-4ecc-8699-7ff356e7c8d6\" name=\"files[]\" multiple disabled\n",
              "        style=\"border:none\" />\n",
              "     <output id=\"result-6a0e8867-c898-4ecc-8699-7ff356e7c8d6\">\n",
              "      Upload widget is only available when the cell has been executed in the\n",
              "      current browser session. Please rerun this cell to enable.\n",
              "      </output>\n",
              "      <script src=\"/nbextensions/google.colab/files.js\"></script> "
            ],
            "text/plain": [
              "<IPython.core.display.HTML object>"
            ]
          },
          "metadata": {
            "tags": []
          }
        },
        {
          "output_type": "stream",
          "text": [
            "Saving the-plank-pizza-co-beer-parlor.csv to the-plank-pizza-co-beer-parlor.csv\n"
          ],
          "name": "stdout"
        }
      ]
    },
    {
      "cell_type": "code",
      "metadata": {
        "colab": {
          "base_uri": "https://localhost:8080/",
          "height": 202
        },
        "id": "dHiTV1ZXTP56",
        "outputId": "6991d857-cf53-4e7d-99d6-b5a11d5666b5"
      },
      "source": [
        "reviews_df.head()"
      ],
      "execution_count": null,
      "outputs": [
        {
          "output_type": "execute_result",
          "data": {
            "text/html": [
              "<div>\n",
              "<style scoped>\n",
              "    .dataframe tbody tr th:only-of-type {\n",
              "        vertical-align: middle;\n",
              "    }\n",
              "\n",
              "    .dataframe tbody tr th {\n",
              "        vertical-align: top;\n",
              "    }\n",
              "\n",
              "    .dataframe thead th {\n",
              "        text-align: right;\n",
              "    }\n",
              "</style>\n",
              "<table border=\"1\" class=\"dataframe\">\n",
              "  <thead>\n",
              "    <tr style=\"text-align: right;\">\n",
              "      <th></th>\n",
              "      <th>Unnamed: 0</th>\n",
              "      <th>review_date</th>\n",
              "      <th>user_name</th>\n",
              "      <th>rating</th>\n",
              "      <th>review_text</th>\n",
              "    </tr>\n",
              "  </thead>\n",
              "  <tbody>\n",
              "    <tr>\n",
              "      <th>0</th>\n",
              "      <td>0</td>\n",
              "      <td>12/3/2020</td>\n",
              "      <td>Angie Y.</td>\n",
              "      <td>NaN</td>\n",
              "      <td>['Great beer options, freshly made flatbread s...</td>\n",
              "    </tr>\n",
              "    <tr>\n",
              "      <th>1</th>\n",
              "      <td>1</td>\n",
              "      <td>9/6/2020</td>\n",
              "      <td>Jason M.</td>\n",
              "      <td>NaN</td>\n",
              "      <td>['This place is my favorite local spot! \\xa0I ...</td>\n",
              "    </tr>\n",
              "    <tr>\n",
              "      <th>2</th>\n",
              "      <td>2</td>\n",
              "      <td>12/3/2020</td>\n",
              "      <td>Debra R.</td>\n",
              "      <td>NaN</td>\n",
              "      <td>[\"Plank Pizza is serving take out meals in an ...</td>\n",
              "    </tr>\n",
              "    <tr>\n",
              "      <th>3</th>\n",
              "      <td>3</td>\n",
              "      <td>3/2/2021</td>\n",
              "      <td>Arianny M.</td>\n",
              "      <td>NaN</td>\n",
              "      <td>['Excellent!!!!!', 'The food is amazing and th...</td>\n",
              "    </tr>\n",
              "    <tr>\n",
              "      <th>4</th>\n",
              "      <td>4</td>\n",
              "      <td>3/3/2021</td>\n",
              "      <td>Ari L.</td>\n",
              "      <td>NaN</td>\n",
              "      <td>[\"Me and gf came here this past Saturday night...</td>\n",
              "    </tr>\n",
              "  </tbody>\n",
              "</table>\n",
              "</div>"
            ],
            "text/plain": [
              "   Unnamed: 0  ...                                        review_text\n",
              "0           0  ...  ['Great beer options, freshly made flatbread s...\n",
              "1           1  ...  ['This place is my favorite local spot! \\xa0I ...\n",
              "2           2  ...  [\"Plank Pizza is serving take out meals in an ...\n",
              "3           3  ...  ['Excellent!!!!!', 'The food is amazing and th...\n",
              "4           4  ...  [\"Me and gf came here this past Saturday night...\n",
              "\n",
              "[5 rows x 5 columns]"
            ]
          },
          "metadata": {
            "tags": []
          },
          "execution_count": 10
        }
      ]
    },
    {
      "cell_type": "code",
      "metadata": {
        "colab": {
          "base_uri": "https://localhost:8080/"
        },
        "id": "SA-7D2mETbk9",
        "outputId": "281d02ef-98e4-4cd3-84be-be800e56e456"
      },
      "source": [
        "reviews_df.count()"
      ],
      "execution_count": null,
      "outputs": [
        {
          "output_type": "execute_result",
          "data": {
            "text/plain": [
              "Unnamed: 0     479\n",
              "review_date    479\n",
              "user_name      479\n",
              "rating           0\n",
              "review_text    479\n",
              "dtype: int64"
            ]
          },
          "metadata": {
            "tags": []
          },
          "execution_count": 11
        }
      ]
    },
    {
      "cell_type": "code",
      "metadata": {
        "id": "_Rr9cJgzTrNI"
      },
      "source": [
        "reviews_df = reviews_df.drop('Unnamed: 0', axis=1)"
      ],
      "execution_count": null,
      "outputs": []
    },
    {
      "cell_type": "code",
      "metadata": {
        "colab": {
          "base_uri": "https://localhost:8080/"
        },
        "id": "AyzuznwWVB7-",
        "outputId": "172dd6d8-f199-438b-d350-e17d9f889ee4"
      },
      "source": [
        "#stopwords\n",
        "\n",
        "import nltk\n",
        "nltk.download('punkt')\n",
        "nltk.download('stopwords')"
      ],
      "execution_count": null,
      "outputs": [
        {
          "output_type": "stream",
          "text": [
            "[nltk_data] Downloading package punkt to /root/nltk_data...\n",
            "[nltk_data]   Unzipping tokenizers/punkt.zip.\n",
            "[nltk_data] Downloading package stopwords to /root/nltk_data...\n",
            "[nltk_data]   Unzipping corpora/stopwords.zip.\n"
          ],
          "name": "stdout"
        },
        {
          "output_type": "execute_result",
          "data": {
            "text/plain": [
              "True"
            ]
          },
          "metadata": {
            "tags": []
          },
          "execution_count": 13
        }
      ]
    },
    {
      "cell_type": "code",
      "metadata": {
        "id": "0b_Pn2nAVGTi"
      },
      "source": [
        "stopwords = nltk.corpus.stopwords.words('english')"
      ],
      "execution_count": null,
      "outputs": []
    },
    {
      "cell_type": "code",
      "metadata": {
        "colab": {
          "base_uri": "https://localhost:8080/"
        },
        "id": "gWXngR8UVefO",
        "outputId": "fb06652a-cc8e-4f55-ce0f-1c11d9757390"
      },
      "source": [
        "nltk.download('wordnet')"
      ],
      "execution_count": null,
      "outputs": [
        {
          "output_type": "stream",
          "text": [
            "[nltk_data] Downloading package wordnet to /root/nltk_data...\n",
            "[nltk_data]   Unzipping corpora/wordnet.zip.\n"
          ],
          "name": "stdout"
        },
        {
          "output_type": "execute_result",
          "data": {
            "text/plain": [
              "True"
            ]
          },
          "metadata": {
            "tags": []
          },
          "execution_count": 15
        }
      ]
    },
    {
      "cell_type": "code",
      "metadata": {
        "id": "en0b2Zz6VjdQ"
      },
      "source": [
        "from nltk.stem import WordNetLemmatizer"
      ],
      "execution_count": null,
      "outputs": []
    },
    {
      "cell_type": "markdown",
      "metadata": {
        "id": "W_wd4RmmVrFO"
      },
      "source": [
        "#Data preprocessing\n"
      ]
    },
    {
      "cell_type": "code",
      "metadata": {
        "id": "Y6T5xfamVmpQ"
      },
      "source": [
        "def tokenize_clean_text(text):\n",
        "  lemmatizer = nltk.stem.WordNetLemmatizer()\n",
        "  clean_text = nltk.word_tokenize(text)\n",
        "  clean_text = map(lambda x:x.lower(), clean_text)\n",
        "  clean_text = list(clean_text)\n",
        "  clean_text = [token for token in clean_text if token not in stopwords]\n",
        "  symbols_to_remove = \"``~`!@#$%^&*()_-+={[}]|\\:;'<,>.?/\"\n",
        "  clean_text = [token for token in clean_text if token not in symbols_to_remove]\n",
        "  clean_text = [lemmatizer.lemmatize(token) for token in clean_text]\n",
        "  clean_text = str(' ').join(clean_text)\n",
        "  return clean_text\n",
        "\n",
        "reviews_df['clean_review'] = reviews_df.apply(lambda row: tokenize_clean_text(row['review_text']), axis=1)"
      ],
      "execution_count": null,
      "outputs": []
    },
    {
      "cell_type": "code",
      "metadata": {
        "id": "kgTOhMKcVvTu"
      },
      "source": [
        "from nltk.tokenize import WordPunctTokenizer\n",
        "tokenizer = WordPunctTokenizer()\n",
        "\n",
        "def preprocess_text(text):\n",
        "    tl = tokenizer.tokenize(text)\n",
        "    return tl\n",
        "\n",
        "tokenized_reviews = []\n",
        "\n",
        "\n",
        "for clean_review in reviews_df:\n",
        "    tokenized_reviews.append(preprocess_text(reviews_df['clean_review'][0]))"
      ],
      "execution_count": null,
      "outputs": []
    },
    {
      "cell_type": "code",
      "metadata": {
        "id": "sQYZPEoWVyX8"
      },
      "source": [
        "from gensim.models import Word2Vec\n",
        "\n",
        "w2v_model = Word2Vec(tokenized_reviews, size=100, window=5, min_count=1, workers=4)"
      ],
      "execution_count": null,
      "outputs": []
    },
    {
      "cell_type": "code",
      "metadata": {
        "colab": {
          "base_uri": "https://localhost:8080/"
        },
        "id": "TSC5WfSRV2uG",
        "outputId": "1ab29564-c212-4c41-e9e7-da4e3b2fd544"
      },
      "source": [
        "w2v_model.wv.vocab"
      ],
      "execution_count": null,
      "outputs": [
        {
          "output_type": "execute_result",
          "data": {
            "text/plain": [
              "{\"'\": <gensim.models.keyedvectors.Vocab at 0x7fcc9de3d0d0>,\n",
              " \"''\": <gensim.models.keyedvectors.Vocab at 0x7fcc9de3d410>,\n",
              " '3': <gensim.models.keyedvectors.Vocab at 0x7fcc9de3d910>,\n",
              " '4': <gensim.models.keyedvectors.Vocab at 0x7fcc9de42150>,\n",
              " '40': <gensim.models.keyedvectors.Vocab at 0x7fcc9de3ddd0>,\n",
              " \"\\\\'\": <gensim.models.keyedvectors.Vocab at 0x7fcc9de3d590>,\n",
              " 'actually': <gensim.models.keyedvectors.Vocab at 0x7fcc9de3ded0>,\n",
              " 'addition': <gensim.models.keyedvectors.Vocab at 0x7fcc9de42390>,\n",
              " 'adhering': <gensim.models.keyedvectors.Vocab at 0x7fcc9de3d810>,\n",
              " 'ale': <gensim.models.keyedvectors.Vocab at 0x7fcc9de42350>,\n",
              " 'amicable': <gensim.models.keyedvectors.Vocab at 0x7fcc9de3db50>,\n",
              " 'apart': <gensim.models.keyedvectors.Vocab at 0x7fcc9de42050>,\n",
              " 'appetizer': <gensim.models.keyedvectors.Vocab at 0x7fcc9de42490>,\n",
              " 'area': <gensim.models.keyedvectors.Vocab at 0x7fcc9de3da50>,\n",
              " 'around': <gensim.models.keyedvectors.Vocab at 0x7fcc9de3dd90>,\n",
              " 'artichoke': <gensim.models.keyedvectors.Vocab at 0x7fcc9de42710>,\n",
              " 'avocado': <gensim.models.keyedvectors.Vocab at 0x7fcc9de42650>,\n",
              " 'awesome': <gensim.models.keyedvectors.Vocab at 0x7fcc9de3d650>,\n",
              " 'back': <gensim.models.keyedvectors.Vocab at 0x7fcc9de44050>,\n",
              " 'beer': <gensim.models.keyedvectors.Vocab at 0x7fcc9de3d150>,\n",
              " 'bite': <gensim.models.keyedvectors.Vocab at 0x7fcc9de42c50>,\n",
              " 'bland': <gensim.models.keyedvectors.Vocab at 0x7fcc9de42c10>,\n",
              " 'brewery': <gensim.models.keyedvectors.Vocab at 0x7fcc9de3d4d0>,\n",
              " 'ca': <gensim.models.keyedvectors.Vocab at 0x7fcc9de42fd0>,\n",
              " 'came': <gensim.models.keyedvectors.Vocab at 0x7fcc9de42750>,\n",
              " 'capacity': <gensim.models.keyedvectors.Vocab at 0x7fcc9de3d7d0>,\n",
              " 'cheese': <gensim.models.keyedvectors.Vocab at 0x7fcc9de42b10>,\n",
              " 'coming': <gensim.models.keyedvectors.Vocab at 0x7fcc9de42590>,\n",
              " 'consisted': <gensim.models.keyedvectors.Vocab at 0x7fcc9de42210>,\n",
              " 'course': <gensim.models.keyedvectors.Vocab at 0x7fcc9de42950>,\n",
              " 'covid': <gensim.models.keyedvectors.Vocab at 0x7fcc9de3d850>,\n",
              " 'craft': <gensim.models.keyedvectors.Vocab at 0x7fcc9de3d490>,\n",
              " 'creative': <gensim.models.keyedvectors.Vocab at 0x7fcc9de3d350>,\n",
              " 'crispy': <gensim.models.keyedvectors.Vocab at 0x7fcc9de426d0>,\n",
              " 'decided': <gensim.models.keyedvectors.Vocab at 0x7fcc9de3d950>,\n",
              " 'degree': <gensim.models.keyedvectors.Vocab at 0x7fcc9de3de10>,\n",
              " 'delicious': <gensim.models.keyedvectors.Vocab at 0x7fcc9de42450>,\n",
              " 'dessert': <gensim.models.keyedvectors.Vocab at 0x7fcc9de42310>,\n",
              " 'different': <gensim.models.keyedvectors.Vocab at 0x7fcc9de42190>,\n",
              " 'dining': <gensim.models.keyedvectors.Vocab at 0x7fcc9de3d710>,\n",
              " 'don': <gensim.models.keyedvectors.Vocab at 0x7fcc9de3d550>,\n",
              " 'door': <gensim.models.keyedvectors.Vocab at 0x7fcc9de42e50>,\n",
              " 'drink': <gensim.models.keyedvectors.Vocab at 0x7fcc9de423d0>,\n",
              " 'due': <gensim.models.keyedvectors.Vocab at 0x7fcc9de3d6d0>,\n",
              " 'eggrolls': <gensim.models.keyedvectors.Vocab at 0x7fcc9de42690>,\n",
              " 'enclosed': <gensim.models.keyedvectors.Vocab at 0x7fcc9de3da10>,\n",
              " 'everything': <gensim.models.keyedvectors.Vocab at 0x7fcc9de42250>,\n",
              " 'except': <gensim.models.keyedvectors.Vocab at 0x7fcc9de3d510>,\n",
              " 'expectation': <gensim.models.keyedvectors.Vocab at 0x7fcc9de42f90>,\n",
              " 'experience': <gensim.models.keyedvectors.Vocab at 0x7fcc9de42d90>,\n",
              " 'felt': <gensim.models.keyedvectors.Vocab at 0x7fcc9de3df90>,\n",
              " 'first': <gensim.models.keyedvectors.Vocab at 0x7fcc9de425d0>,\n",
              " 'flatbread': <gensim.models.keyedvectors.Vocab at 0x7fcc9de3d2d0>,\n",
              " 'food': <gensim.models.keyedvectors.Vocab at 0x7fcc9de42f10>,\n",
              " 'freshly': <gensim.models.keyedvectors.Vocab at 0x7fcc9de3d210>,\n",
              " 'friendly': <gensim.models.keyedvectors.Vocab at 0x7fcc9de3db10>,\n",
              " 'full': <gensim.models.keyedvectors.Vocab at 0x7fcc9de3d790>,\n",
              " 'fun': <gensim.models.keyedvectors.Vocab at 0x7fcc9de3d250>,\n",
              " 'getting': <gensim.models.keyedvectors.Vocab at 0x7fcc9de44110>,\n",
              " 'given': <gensim.models.keyedvectors.Vocab at 0x7fcc9de3dd50>,\n",
              " 'good': <gensim.models.keyedvectors.Vocab at 0x7fcc9de42890>,\n",
              " 'gorgonzola': <gensim.models.keyedvectors.Vocab at 0x7fcc9de42b50>,\n",
              " 'got': <gensim.models.keyedvectors.Vocab at 0x7fcc9de3df10>,\n",
              " 'great': <gensim.models.keyedvectors.Vocab at 0x7fcc9de3d110>,\n",
              " 'guideline': <gensim.models.keyedvectors.Vocab at 0x7fcc9de3d890>,\n",
              " 'highly': <gensim.models.keyedvectors.Vocab at 0x7fcc9de424d0>,\n",
              " 'host': <gensim.models.keyedvectors.Vocab at 0x7fcc9de3da90>,\n",
              " 'hot': <gensim.models.keyedvectors.Vocab at 0x7fcc9de427d0>,\n",
              " 'ipas': <gensim.models.keyedvectors.Vocab at 0x7fcc9de422d0>,\n",
              " 'joint': <gensim.models.keyedvectors.Vocab at 0x7fcc9de3d690>,\n",
              " 'keep': <gensim.models.keyedvectors.Vocab at 0x7fcc9de3dc90>,\n",
              " 'like': <gensim.models.keyedvectors.Vocab at 0x7fcc9de429d0>,\n",
              " 'list': <gensim.models.keyedvectors.Vocab at 0x7fcc9de421d0>,\n",
              " 'made': <gensim.models.keyedvectors.Vocab at 0x7fcc9de3d290>,\n",
              " 'main': <gensim.models.keyedvectors.Vocab at 0x7fcc9de42090>,\n",
              " 'make': <gensim.models.keyedvectors.Vocab at 0x7fcc9de3d610>,\n",
              " 'menu': <gensim.models.keyedvectors.Vocab at 0x7fcc9de3d390>,\n",
              " 'mix': <gensim.models.keyedvectors.Vocab at 0x7fcc9de3d450>,\n",
              " 'moment': <gensim.models.keyedvectors.Vocab at 0x7fcc9de42dd0>,\n",
              " 'mozzerella': <gensim.models.keyedvectors.Vocab at 0x7fcc9de42b90>,\n",
              " 'multiple': <gensim.models.keyedvectors.Vocab at 0x7fcc9de3dbd0>,\n",
              " 'n': <gensim.models.keyedvectors.Vocab at 0x7fcc9de42bd0>,\n",
              " 'neglected': <gensim.models.keyedvectors.Vocab at 0x7fcc9de3dfd0>,\n",
              " 'never': <gensim.models.keyedvectors.Vocab at 0x7fcc9de3df50>,\n",
              " 'option': <gensim.models.keyedvectors.Vocab at 0x7fcc9de3d190>,\n",
              " 'ordered': <gensim.models.keyedvectors.Vocab at 0x7fcc9de42110>,\n",
              " 'outdoors': <gensim.models.keyedvectors.Vocab at 0x7fcc9de3d9d0>,\n",
              " 'outside': <gensim.models.keyedvectors.Vocab at 0x7fcc9de3dc50>,\n",
              " 'overall': <gensim.models.keyedvectors.Vocab at 0x7fcc9de42d10>,\n",
              " 'pairing': <gensim.models.keyedvectors.Vocab at 0x7fcc9de42910>,\n",
              " 'parlor': <gensim.models.keyedvectors.Vocab at 0x7fcc9de3d3d0>,\n",
              " 'party': <gensim.models.keyedvectors.Vocab at 0x7fcc9de3d8d0>,\n",
              " 'perfect': <gensim.models.keyedvectors.Vocab at 0x7fcc9de428d0>,\n",
              " 'perfection': <gensim.models.keyedvectors.Vocab at 0x7fcc9de42810>,\n",
              " 'pie': <gensim.models.keyedvectors.Vocab at 0x7fcc9de42a90>,\n",
              " 'piping': <gensim.models.keyedvectors.Vocab at 0x7fcc9de42790>,\n",
              " 'pizza': <gensim.models.keyedvectors.Vocab at 0x7fcc9de3d1d0>,\n",
              " 'pleasantly': <gensim.models.keyedvectors.Vocab at 0x7fcc9de3de50>,\n",
              " 'popeye': <gensim.models.keyedvectors.Vocab at 0x7fcc9de42990>,\n",
              " 'really': <gensim.models.keyedvectors.Vocab at 0x7fcc9de42c90>,\n",
              " 'recommend': <gensim.models.keyedvectors.Vocab at 0x7fcc9de42510>,\n",
              " 'room': <gensim.models.keyedvectors.Vocab at 0x7fcc9de3d750>,\n",
              " 'seriously': <gensim.models.keyedvectors.Vocab at 0x7fcc9de42850>,\n",
              " 'server': <gensim.models.keyedvectors.Vocab at 0x7fcc9de3dad0>,\n",
              " 'sit': <gensim.models.keyedvectors.Vocab at 0x7fcc9de3d990>,\n",
              " 'spinach': <gensim.models.keyedvectors.Vocab at 0x7fcc9de42a10>,\n",
              " 'staff': <gensim.models.keyedvectors.Vocab at 0x7fcc9de42ed0>,\n",
              " 'stout': <gensim.models.keyedvectors.Vocab at 0x7fcc9de42290>,\n",
              " 'style': <gensim.models.keyedvectors.Vocab at 0x7fcc9de3d310>,\n",
              " 'surpassed': <gensim.models.keyedvectors.Vocab at 0x7fcc9de42f50>,\n",
              " 'surprised': <gensim.models.keyedvectors.Vocab at 0x7fcc9de3de90>,\n",
              " 't': <gensim.models.keyedvectors.Vocab at 0x7fcc9de3d5d0>,\n",
              " 'tasty': <gensim.models.keyedvectors.Vocab at 0x7fcc9de42cd0>,\n",
              " 'time': <gensim.models.keyedvectors.Vocab at 0x7fcc9de42610>,\n",
              " 'ton': <gensim.models.keyedvectors.Vocab at 0x7fcc9de42ad0>,\n",
              " 'torch': <gensim.models.keyedvectors.Vocab at 0x7fcc9de3dc10>,\n",
              " 'torn': <gensim.models.keyedvectors.Vocab at 0x7fcc9de440d0>,\n",
              " 'try': <gensim.models.keyedvectors.Vocab at 0x7fcc9de44090>,\n",
              " 'trying': <gensim.models.keyedvectors.Vocab at 0x7fcc9de42550>,\n",
              " 'turned': <gensim.models.keyedvectors.Vocab at 0x7fcc9de3db90>,\n",
              " 'two': <gensim.models.keyedvectors.Vocab at 0x7fcc9de42410>,\n",
              " 'u': <gensim.models.keyedvectors.Vocab at 0x7fcc9de3dcd0>,\n",
              " 'wait': <gensim.models.keyedvectors.Vocab at 0x7fcc9de42e90>,\n",
              " 'walked': <gensim.models.keyedvectors.Vocab at 0x7fcc9de42e10>,\n",
              " 'warm': <gensim.models.keyedvectors.Vocab at 0x7fcc9de3dd10>,\n",
              " 'we': <gensim.models.keyedvectors.Vocab at 0x7fcc9de420d0>,\n",
              " 'white': <gensim.models.keyedvectors.Vocab at 0x7fcc9de42a50>,\n",
              " 'wonderful': <gensim.models.keyedvectors.Vocab at 0x7fcc9de42d50>}"
            ]
          },
          "metadata": {
            "tags": []
          },
          "execution_count": 30
        }
      ]
    },
    {
      "cell_type": "markdown",
      "metadata": {
        "id": "zc4friljXHlr"
      },
      "source": [
        "comparing similarities"
      ]
    },
    {
      "cell_type": "code",
      "metadata": {
        "colab": {
          "base_uri": "https://localhost:8080/"
        },
        "id": "39JM7BMZV5rT",
        "outputId": "9b200a04-fe3d-4fac-c66b-44039283bc7f"
      },
      "source": [
        "w2v_model.most_similar(positive=['style','menu'], topn=5)"
      ],
      "execution_count": null,
      "outputs": [
        {
          "output_type": "stream",
          "text": [
            "/usr/local/lib/python3.7/dist-packages/ipykernel_launcher.py:1: DeprecationWarning: Call to deprecated `most_similar` (Method will be removed in 4.0.0, use self.wv.most_similar() instead).\n",
            "  \"\"\"Entry point for launching an IPython kernel.\n"
          ],
          "name": "stderr"
        },
        {
          "output_type": "execute_result",
          "data": {
            "text/plain": [
              "[('eggrolls', 0.2519930303096771),\n",
              " ('ipas', 0.1793195754289627),\n",
              " ('piping', 0.17544490098953247),\n",
              " ('guideline', 0.17130887508392334),\n",
              " ('food', 0.16490887105464935)]"
            ]
          },
          "metadata": {
            "tags": []
          },
          "execution_count": 41
        }
      ]
    },
    {
      "cell_type": "code",
      "metadata": {
        "colab": {
          "base_uri": "https://localhost:8080/"
        },
        "id": "PrMhYKHMXZ0e",
        "outputId": "5bb0480f-9d16-4c82-fe24-bc8cdaebee32"
      },
      "source": [
        "w2v_model.most_similar(positive=['appetizer', 'wonderful'], topn=5)"
      ],
      "execution_count": null,
      "outputs": [
        {
          "output_type": "stream",
          "text": [
            "/usr/local/lib/python3.7/dist-packages/ipykernel_launcher.py:1: DeprecationWarning: Call to deprecated `most_similar` (Method will be removed in 4.0.0, use self.wv.most_similar() instead).\n",
            "  \"\"\"Entry point for launching an IPython kernel.\n"
          ],
          "name": "stderr"
        },
        {
          "output_type": "execute_result",
          "data": {
            "text/plain": [
              "[('addition', 0.3175678849220276),\n",
              " ('given', 0.2955036461353302),\n",
              " ('outdoors', 0.20105016231536865),\n",
              " ('option', 0.19858446717262268),\n",
              " ('party', 0.19304102659225464)]"
            ]
          },
          "metadata": {
            "tags": []
          },
          "execution_count": 33
        }
      ]
    },
    {
      "cell_type": "code",
      "metadata": {
        "colab": {
          "base_uri": "https://localhost:8080/"
        },
        "id": "oVJDfeKuZB-O",
        "outputId": "ef2b428a-d35e-4cbd-ad6a-77cd22d6c8d5"
      },
      "source": [
        "w2v_model.most_similar(positive=['pizza'], topn=5)"
      ],
      "execution_count": null,
      "outputs": [
        {
          "output_type": "stream",
          "text": [
            "/usr/local/lib/python3.7/dist-packages/ipykernel_launcher.py:1: DeprecationWarning: Call to deprecated `most_similar` (Method will be removed in 4.0.0, use self.wv.most_similar() instead).\n",
            "  \"\"\"Entry point for launching an IPython kernel.\n"
          ],
          "name": "stderr"
        },
        {
          "output_type": "execute_result",
          "data": {
            "text/plain": [
              "[('beer', 0.3155582547187805),\n",
              " ('hot', 0.30840301513671875),\n",
              " ('awesome', 0.24650268256664276),\n",
              " ('staff', 0.2219543308019638),\n",
              " ('we', 0.18778353929519653)]"
            ]
          },
          "metadata": {
            "tags": []
          },
          "execution_count": 36
        }
      ]
    }
  ]
}